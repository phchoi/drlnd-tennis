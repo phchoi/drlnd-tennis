{
 "cells": [
  {
   "cell_type": "markdown",
   "metadata": {},
   "source": [
    "# Collaboration and Competition\n",
    "\n",
    "---\n",
    "\n",
    "In this notebook, you will learn how to use the Unity ML-Agents environment for the third project of the [Deep Reinforcement Learning Nanodegree](https://www.udacity.com/course/deep-reinforcement-learning-nanodegree--nd893) program.\n",
    "\n",
    "### 1. Start the Environment\n",
    "\n",
    "We begin by importing the necessary packages.  If the code cell below returns an error, please revisit the project instructions to double-check that you have installed [Unity ML-Agents](https://github.com/Unity-Technologies/ml-agents/blob/master/docs/Installation.md) and [NumPy](http://www.numpy.org/)."
   ]
  },
  {
   "cell_type": "code",
   "execution_count": 1,
   "metadata": {},
   "outputs": [],
   "source": [
    "from unityagents import UnityEnvironment\n",
    "import numpy as np"
   ]
  },
  {
   "cell_type": "markdown",
   "metadata": {},
   "source": [
    "Next, we will start the environment!  **_Before running the code cell below_**, change the `file_name` parameter to match the location of the Unity environment that you downloaded.\n",
    "\n",
    "- **Mac**: `\"path/to/Tennis.app\"`\n",
    "- **Windows** (x86): `\"path/to/Tennis_Windows_x86/Tennis.exe\"`\n",
    "- **Windows** (x86_64): `\"path/to/Tennis_Windows_x86_64/Tennis.exe\"`\n",
    "- **Linux** (x86): `\"path/to/Tennis_Linux/Tennis.x86\"`\n",
    "- **Linux** (x86_64): `\"path/to/Tennis_Linux/Tennis.x86_64\"`\n",
    "- **Linux** (x86, headless): `\"path/to/Tennis_Linux_NoVis/Tennis.x86\"`\n",
    "- **Linux** (x86_64, headless): `\"path/to/Tennis_Linux_NoVis/Tennis.x86_64\"`\n",
    "\n",
    "For instance, if you are using a Mac, then you downloaded `Tennis.app`.  If this file is in the same folder as the notebook, then the line below should appear as follows:\n",
    "```\n",
    "env = UnityEnvironment(file_name=\"Tennis.app\")\n",
    "```"
   ]
  },
  {
   "cell_type": "code",
   "execution_count": 2,
   "metadata": {
    "scrolled": true
   },
   "outputs": [
    {
     "name": "stderr",
     "output_type": "stream",
     "text": [
      "INFO:unityagents:\n",
      "'Academy' started successfully!\n",
      "Unity Academy name: Academy\n",
      "        Number of Brains: 1\n",
      "        Number of External Brains : 1\n",
      "        Lesson number : 0\n",
      "        Reset Parameters :\n",
      "\t\t\n",
      "Unity brain name: TennisBrain\n",
      "        Number of Visual Observations (per agent): 0\n",
      "        Vector Observation space type: continuous\n",
      "        Vector Observation space size (per agent): 8\n",
      "        Number of stacked Vector Observation: 3\n",
      "        Vector Action space type: continuous\n",
      "        Vector Action space size (per agent): 2\n",
      "        Vector Action descriptions: , \n"
     ]
    }
   ],
   "source": [
    "env = UnityEnvironment(file_name=\"Tennis_Linux/Tennis.x86_64\")"
   ]
  },
  {
   "cell_type": "markdown",
   "metadata": {},
   "source": [
    "Environments contain **_brains_** which are responsible for deciding the actions of their associated agents. Here we check for the first brain available, and set it as the default brain we will be controlling from Python."
   ]
  },
  {
   "cell_type": "code",
   "execution_count": 3,
   "metadata": {},
   "outputs": [],
   "source": [
    "# get the default brain\n",
    "brain_name = env.brain_names[0]\n",
    "brain = env.brains[brain_name]"
   ]
  },
  {
   "cell_type": "markdown",
   "metadata": {},
   "source": [
    "### 2. Examine the State and Action Spaces\n",
    "\n",
    "In this environment, two agents control rackets to bounce a ball over a net. If an agent hits the ball over the net, it receives a reward of +0.1.  If an agent lets a ball hit the ground or hits the ball out of bounds, it receives a reward of -0.01.  Thus, the goal of each agent is to keep the ball in play.\n",
    "\n",
    "The observation space consists of 8 variables corresponding to the position and velocity of the ball and racket. Two continuous actions are available, corresponding to movement toward (or away from) the net, and jumping. \n",
    "\n",
    "Run the code cell below to print some information about the environment."
   ]
  },
  {
   "cell_type": "code",
   "execution_count": 4,
   "metadata": {},
   "outputs": [
    {
     "name": "stdout",
     "output_type": "stream",
     "text": [
      "Number of agents: 2\n",
      "Size of each action: 2\n",
      "There are 2 agents. Each observes a state with length: 24\n",
      "The state for the first agent looks like: [ 0.          0.          0.          0.          0.          0.\n",
      "  0.          0.          0.          0.          0.          0.\n",
      "  0.          0.          0.          0.         -6.65278625 -1.5\n",
      " -0.          0.          6.83172083  6.         -0.          0.        ]\n"
     ]
    }
   ],
   "source": [
    "# reset the environment\n",
    "env_info = env.reset(train_mode=True)[brain_name]\n",
    "\n",
    "# number of agents \n",
    "num_agents = len(env_info.agents)\n",
    "print('Number of agents:', num_agents)\n",
    "\n",
    "# size of each action\n",
    "action_size = brain.vector_action_space_size\n",
    "print('Size of each action:', action_size)\n",
    "\n",
    "# examine the state space \n",
    "states = env_info.vector_observations\n",
    "state_size = states.shape[1]\n",
    "print('There are {} agents. Each observes a state with length: {}'.format(states.shape[0], state_size))\n",
    "print('The state for the first agent looks like:', states[0])"
   ]
  },
  {
   "cell_type": "markdown",
   "metadata": {},
   "source": [
    "### 3. Take Random Actions in the Environment\n",
    "\n",
    "In the next code cell, you will learn how to use the Python API to control the agents and receive feedback from the environment.\n",
    "\n",
    "Once this cell is executed, you will watch the agents' performance, if they select actions at random with each time step.  A window should pop up that allows you to observe the agents.\n",
    "\n",
    "Of course, as part of the project, you'll have to change the code so that the agents are able to use their experiences to gradually choose better actions when interacting with the environment!"
   ]
  },
  {
   "cell_type": "code",
   "execution_count": 6,
   "metadata": {},
   "outputs": [
    {
     "name": "stdout",
     "output_type": "stream",
     "text": [
      "Score (max over agents) from episode 1: 0.0\n",
      "Score (max over agents) from episode 2: 0.09000000171363354\n",
      "Score (max over agents) from episode 3: 0.0\n",
      "Score (max over agents) from episode 4: 0.0\n",
      "Score (max over agents) from episode 5: 0.0\n"
     ]
    }
   ],
   "source": [
    "for i in range(1, 6):                                      # play game for 5 episodes\n",
    "    env_info = env.reset(train_mode=False)[brain_name]     # reset the environment    \n",
    "    states = env_info.vector_observations                  # get the current state (for each agent)\n",
    "    scores = np.zeros(num_agents)                          # initialize the score (for each agent)\n",
    "    while True:\n",
    "        actions = np.random.randn(num_agents, action_size) # select an action (for each agent)\n",
    "        actions = np.clip(actions, -1, 1)                  # all actions between -1 and 1\n",
    "        env_info = env.step(actions)[brain_name]           # send all actions to tne environment\n",
    "        next_states = env_info.vector_observations         # get next state (for each agent)\n",
    "        rewards = env_info.rewards                         # get reward (for each agent)\n",
    "        dones = env_info.local_done                        # see if episode finished\n",
    "        scores += env_info.rewards                         # update the score (for each agent)\n",
    "        states = next_states                               # roll over states to next time step\n",
    "        if np.any(dones):                                  # exit loop if episode finished\n",
    "            break\n",
    "    print('Score (max over agents) from episode {}: {}'.format(i, np.max(scores)))"
   ]
  },
  {
   "cell_type": "markdown",
   "metadata": {},
   "source": [
    "When finished, you can close the environment."
   ]
  },
  {
   "cell_type": "code",
   "execution_count": null,
   "metadata": {},
   "outputs": [],
   "source": [
    "#env.close()"
   ]
  },
  {
   "cell_type": "markdown",
   "metadata": {},
   "source": [
    "### 4. It's Your Turn!\n",
    "\n",
    "Now it's your turn to train your own agent to solve the environment!  When training the environment, set `train_mode=True`, so that the line for resetting the environment looks like the following:\n",
    "```python\n",
    "env_info = env.reset(train_mode=True)[brain_name]\n",
    "```"
   ]
  },
  {
   "cell_type": "code",
   "execution_count": 5,
   "metadata": {},
   "outputs": [
    {
     "name": "stdout",
     "output_type": "stream",
     "text": [
      "Hyperparameter list:\n",
      "\tBuffer Size: 100000\n",
      "\tBatch Size: 512\n",
      "\tSoft update of target parameter: 0.100000\n",
      "\tDiscount factor: 0.990000\n",
      "\tLearning Rate of Actor: 0.000100\n",
      "\tLearning Rate of Critic: 0.000100\n",
      "\tWeight Decay: 0.000000\n"
     ]
    }
   ],
   "source": [
    "import time\n",
    "from maddpg import MADDPG\n",
    "from collections import deque\n",
    "\n",
    "# hyperparameter\n",
    "fc1 = 400\n",
    "fc2 = 300\n",
    "random_seed = 3\n",
    "buffer_size=int(1e5)\n",
    "batch_size=512\n",
    "tau=1e-1\n",
    "gamma=0.99\n",
    "lr_actor=1e-4\n",
    "lr_critic=1e-4\n",
    "weight_decay=0\n",
    "\n",
    "print('Hyperparameter list:')\n",
    "print('\\tBuffer Size: {:d}'.format(buffer_size))\n",
    "print('\\tBatch Size: {:d}'.format(batch_size))\n",
    "print('\\tSoft update of target parameter: {:f}'.format(tau))\n",
    "print('\\tDiscount factor: {:f}'.format(gamma))\n",
    "print('\\tLearning Rate of Actor: {:f}'.format(lr_actor))\n",
    "print('\\tLearning Rate of Critic: {:f}'.format(lr_critic))\n",
    "print('\\tWeight Decay: {:f}'.format(weight_decay))"
   ]
  },
  {
   "cell_type": "code",
   "execution_count": 6,
   "metadata": {},
   "outputs": [
    {
     "name": "stdout",
     "output_type": "stream",
     "text": [
      "agent 1:\n",
      "Actor(\n",
      "  (fc1): Linear(in_features=24, out_features=400, bias=True)\n",
      "  (fc2): Linear(in_features=400, out_features=300, bias=True)\n",
      "  (fc3): Linear(in_features=300, out_features=2, bias=True)\n",
      ")\n",
      "Critic(\n",
      "  (fcs1): Linear(in_features=52, out_features=400, bias=True)\n",
      "  (fc2): Linear(in_features=400, out_features=300, bias=True)\n",
      "  (fc3): Linear(in_features=300, out_features=1, bias=True)\n",
      ")\n",
      "\n",
      "\n",
      "agent 2:\n",
      "Actor(\n",
      "  (fc1): Linear(in_features=24, out_features=400, bias=True)\n",
      "  (fc2): Linear(in_features=400, out_features=300, bias=True)\n",
      "  (fc3): Linear(in_features=300, out_features=2, bias=True)\n",
      ")\n",
      "Critic(\n",
      "  (fcs1): Linear(in_features=52, out_features=400, bias=True)\n",
      "  (fc2): Linear(in_features=400, out_features=300, bias=True)\n",
      "  (fc3): Linear(in_features=300, out_features=1, bias=True)\n",
      ")\n",
      "\n",
      "\n"
     ]
    }
   ],
   "source": [
    "agent = MADDPG(state_size, action_size, num_agents, fc1, fc2, random_seed,\n",
    "               buffer_size, batch_size, tau, gamma, lr_actor, lr_critic, weight_decay)\n",
    "\n",
    "agent.print_agent_network()"
   ]
  },
  {
   "cell_type": "code",
   "execution_count": 7,
   "metadata": {},
   "outputs": [
    {
     "name": "stdout",
     "output_type": "stream",
     "text": [
      "Start Training ....\n",
      "Printing 1) Average Score, 2)Lowest Score, 3)Highest Score of last 100 episode\n",
      "Episode 100\tAverage Score: -0.00400 Lowest Score: -0.01000 Highest Score: 0.10000 Elapsed time: 62 secs\n",
      "Episode 200\tAverage Score: -0.00400 Lowest Score: -0.01000 Highest Score: 0.10000 Elapsed time: 151 secs\n",
      "Episode 300\tAverage Score: 0.02900 Lowest Score: -0.01000 Highest Score: 0.20000 Elapsed time: 317 secs\n",
      "Episode 400\tAverage Score: 0.05595 Lowest Score: -0.01000 Highest Score: 0.20000 Elapsed time: 539 secs\n",
      "Episode 500\tAverage Score: 0.05100 Lowest Score: -0.01000 Highest Score: 0.29000 Elapsed time: 754 secs\n",
      "Episode 600\tAverage Score: 0.04750 Lowest Score: -0.01000 Highest Score: 0.20000 Elapsed time: 961 secs\n",
      "Episode 700\tAverage Score: 0.05695 Lowest Score: -0.02000 Highest Score: 0.30000 Elapsed time: 1200 secs\n",
      "Episode 800\tAverage Score: 0.06800 Lowest Score: -0.01000 Highest Score: 0.50000 Elapsed time: 1466 secs\n",
      "Episode 900\tAverage Score: 0.06300 Lowest Score: -0.01000 Highest Score: 0.40000 Elapsed time: 1718 secs\n",
      "Episode 1000\tAverage Score: 0.06695 Lowest Score: -0.01000 Highest Score: 0.30000 Elapsed time: 1976 secs\n",
      "Episode 1100\tAverage Score: 0.06850 Lowest Score: -0.01000 Highest Score: 0.40000 Elapsed time: 2249 secs\n",
      "Episode 1200\tAverage Score: 0.07500 Lowest Score: -0.01000 Highest Score: 0.30000 Elapsed time: 2535 secs\n",
      "Episode 1300\tAverage Score: 0.06295 Lowest Score: -0.01000 Highest Score: 0.30000 Elapsed time: 2800 secs\n",
      "Episode 1400\tAverage Score: 0.08900 Lowest Score: -0.01000 Highest Score: 0.50000 Elapsed time: 3117 secs\n",
      "Episode 1500\tAverage Score: 0.09700 Lowest Score: -0.01000 Highest Score: 0.50000 Elapsed time: 3452 secs\n",
      "Episode 1600\tAverage Score: 0.09500 Lowest Score: -0.01000 Highest Score: 0.50000 Elapsed time: 3781 secs\n",
      "Episode 1700\tAverage Score: 0.14050 Lowest Score: -0.01000 Highest Score: 0.80000 Elapsed time: 4226 secs\n",
      "Episode 1800\tAverage Score: 0.12000 Lowest Score: -0.01000 Highest Score: 1.00000 Elapsed time: 4628 secs\n",
      "Episode 1900\tAverage Score: 0.13650 Lowest Score: -0.01000 Highest Score: 0.90000 Elapsed time: 5077 secs\n",
      "Episode 2000\tAverage Score: 0.09500 Lowest Score: -0.01000 Highest Score: 0.60000 Elapsed time: 5415 secs\n",
      "Episode 2100\tAverage Score: 0.18940 Lowest Score: -0.01000 Highest Score: 1.30000 Elapsed time: 5993 secs\n",
      "Episode 2200\tAverage Score: 0.38600 Lowest Score: -0.01000 Highest Score: 2.20000 Elapsed time: 7088 secs\n",
      "Episode 2250\tAverage Score: 0.50560 Lowest Score: -0.01000 Highest Score: 2.60000 Elapsed time: 7921 secs\n",
      "\n",
      "Environment solved in 2250 episodes!\n",
      "Average Score for last 100 episode: 0.50560 Elapsed time: 7921 secs\n",
      "Saved actor checkpoint of agent 0 to checkpoint_agent_0_actor.pth\n",
      "Saved critic checkpoint of agent 0 to checkpoint_agent_0_actor.pth\n",
      "Saved actor checkpoint of agent 1 to checkpoint_agent_1_actor.pth\n",
      "Saved critic checkpoint of agent 1 to checkpoint_agent_1_actor.pth\n"
     ]
    }
   ],
   "source": [
    "def ddpg(n_episodes=10000, print_every=100):\n",
    "    scores_deque = deque(maxlen=print_every)\n",
    "    scores = []\n",
    "    start_time = time.time()\n",
    "    print('Start Training ....')\n",
    "    print('Printing 1) Average Score, 2)Lowest Score, 3)Highest Score of last {:d} episode'.format(print_every))\n",
    "    for i_episode in range(1, n_episodes+1):\n",
    "        env_info = env.reset(train_mode=True)[brain_name]\n",
    "        states = env_info.vector_observations\n",
    "        agent.reset()\n",
    "        score = np.zeros(num_agents)\n",
    "        while True:\n",
    "            actions = agent.act(states)\n",
    "            #print(actions)\n",
    "            env_info = env.step(actions)[brain_name]           # send all actions to tne environment\n",
    "            next_states = env_info.vector_observations         # get next state (for each agent)\n",
    "            rewards = env_info.rewards                         # get reward (for each agent)\n",
    "            #print(rewards)\n",
    "\n",
    "            dones = env_info.local_done                        # see if episode finished\n",
    "            agent.step(states, actions, rewards, next_states, dones)\n",
    "            \n",
    "            #print(scores)\n",
    "            #score += env_info.rewards                         # update the score (for each agent)\n",
    "            score += rewards                         # update the score (for each agent)\n",
    "            states = next_states                               # roll over states to next time step\n",
    "            if np.any(dones):                                  # exit loop if episode finished\n",
    "                break         \n",
    "            \n",
    "        elapsed_time = time.time() - start_time\n",
    "        scores_deque.append(score)\n",
    "        scores.append(score)\n",
    "        if i_episode % print_every == 0:\n",
    "            print('\\rEpisode {}\\tAverage Score: {:.5f} Lowest Score: {:.5f} Highest Score: {:.5f} Elapsed time: {:d} secs'.format(\n",
    "                i_episode, np.mean(scores_deque),np.min(scores_deque),np.max(scores_deque), int(elapsed_time)))\n",
    "            #agent.save_state_dict('checkpoint_agent_')\n",
    "        if np.mean(scores_deque)>=0.5:\n",
    "            print('\\rEpisode {}\\tAverage Score: {:.5f} Lowest Score: {:.5f} Highest Score: {:.5f} Elapsed time: {:d} secs'.format(\n",
    "                i_episode, np.mean(scores_deque),np.min(scores_deque),np.max(scores_deque), int(elapsed_time)))\n",
    "            print('\\nEnvironment solved in {} episodes!\\nAverage Score for last {:d} episode: {:.5f} Elapsed time: {:d} secs'.format(\n",
    "                i_episode, int(print_every), np.mean(scores_deque), int(elapsed_time)))\n",
    "            agent.save_state_dict('checkpoint_agent_')\n",
    "            break\n",
    "            \n",
    "    return scores, scores_deque\n",
    "\n",
    "scores, scores_deque = ddpg()"
   ]
  },
  {
   "cell_type": "code",
   "execution_count": 9,
   "metadata": {},
   "outputs": [
    {
     "data": {
      "image/png": "[encoded data removed]",
      "text/plain": [
       "<Figure size 432x288 with 1 Axes>"
      ]
     },
     "metadata": {},
     "output_type": "display_data"
    }
   ],
   "source": [
    "import matplotlib.pyplot as plt\n",
    "%matplotlib inline\n",
    "\n",
    "fig = plt.figure()\n",
    "ax = fig.add_subplot(111)\n",
    "plt.plot(np.arange(1, len(scores)+1), scores)\n",
    "plt.ylabel('Score')\n",
    "plt.xlabel('Episode #')\n",
    "plt.show()"
   ]
  },
  {
   "cell_type": "code",
   "execution_count": 12,
   "metadata": {},
   "outputs": [
    {
     "name": "stdout",
     "output_type": "stream",
     "text": [
      "Loaded actor checkpoint to agent 0 from checkpoint_agent_0_actor.pth\n",
      "Loaded critic checkpoint to agent 0 from checkpoint_agent_0_actor.pth\n",
      "Loaded actor checkpoint to agent 1 from checkpoint_agent_1_actor.pth\n",
      "Loaded critic checkpoint to agent 1 from checkpoint_agent_1_actor.pth\n",
      "Highest Score from episode 1: 0.20000000298023224\n",
      "Highest Score from episode 2: 0.5000000074505806\n",
      "Highest Score from episode 3: 1.0000000149011612\n",
      "Highest Score from episode 4: 0.09000000171363354\n",
      "Highest Score from episode 5: 0.800000011920929\n",
      "Average Score for last 5 episodes: 0.518000\n"
     ]
    }
   ],
   "source": [
    "agent = MADDPG(state_size, action_size, num_agents, fc1, fc2, random_seed,\n",
    "               buffer_size, batch_size, tau, gamma, lr_actor, lr_critic, weight_decay)\n",
    "\n",
    "agent.load_state_dict('checkpoint_agent_')\n",
    "\n",
    "highest_scores_for_all_episode = []\n",
    "\n",
    "for i in range(1, 6):                                      # play game for 5 episodes\n",
    "\n",
    "    env_info = env.reset(train_mode=False)[brain_name]     # reset the environment    \n",
    "    states = env_info.vector_observations                  # get the current state (for each agent)\n",
    "    scores = np.zeros(num_agents)                          # initialize the score (for each agent)\n",
    "    while True:\n",
    "        actions = agent.act(states)\n",
    "        env_info = env.step(actions)[brain_name]           # send all actions to tne environment\n",
    "        next_states = env_info.vector_observations         # get next state (for each agent)\n",
    "        rewards = env_info.rewards                         # get reward (for each agent)\n",
    "        dones = env_info.local_done                        # see if episode finished\n",
    "        agent.step(states, actions, rewards, next_states, dones)\n",
    "        scores += rewards                                   # update the score (for each agent)\n",
    "        states = next_states                               # roll over states to next time step\n",
    "        if np.any(dones):                                  # exit loop if episode finished\n",
    "            break\n",
    "\n",
    "    highest_scores_for_all_episode.append(max(scores))\n",
    "    print('Highest Score from episode {}: {}'.format(i, max(scores)))\n",
    "    \n",
    "print('Average Score for last {:d} episodes: {:f}'.format(5, sum(highest_scores_for_all_episode)/5))"
   ]
  },
  {
   "cell_type": "code",
   "execution_count": null,
   "metadata": {},
   "outputs": [],
   "source": []
  },
  {
   "cell_type": "code",
   "execution_count": null,
   "metadata": {},
   "outputs": [],
   "source": []
  }
 ],
 "metadata": {
  "kernelspec": {
   "display_name": "drlnd",
   "language": "python",
   "name": "drlnd"
  },
  "language_info": {
   "codemirror_mode": {
    "name": "ipython",
    "version": 3
   },
   "file_extension": ".py",
   "mimetype": "text/x-python",
   "name": "python",
   "nbconvert_exporter": "python",
   "pygments_lexer": "ipython3",
   "version": "3.6.8"
  }
 },
 "nbformat": 4,
 "nbformat_minor": 2
}
